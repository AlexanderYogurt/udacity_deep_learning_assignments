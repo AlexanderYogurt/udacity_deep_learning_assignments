{
 "cells": [
  {
   "cell_type": "markdown",
   "metadata": {
    "colab_type": "text",
    "id": "kR-4eNdK6lYS"
   },
   "source": [
    "Deep Learning\n",
    "=============\n",
    "\n",
    "Assignment 3\n",
    "------------\n",
    "\n",
    "Previously in `2_fullyconnected.ipynb`, you trained a logistic regression and a neural network model.\n",
    "\n",
    "The goal of this assignment is to explore regularization techniques."
   ]
  },
  {
   "cell_type": "code",
   "execution_count": 1,
   "metadata": {
    "cellView": "both",
    "colab": {
     "autoexec": {
      "startup": false,
      "wait_interval": 0
     }
    },
    "colab_type": "code",
    "collapsed": true,
    "id": "JLpLa8Jt7Vu4"
   },
   "outputs": [],
   "source": [
    "# These are all the modules we'll be using later. Make sure you can import them\n",
    "# before proceeding further.\n",
    "from __future__ import print_function\n",
    "import numpy as np\n",
    "import tensorflow as tf\n",
    "from six.moves import cPickle as pickle"
   ]
  },
  {
   "cell_type": "markdown",
   "metadata": {
    "colab_type": "text",
    "id": "1HrCK6e17WzV"
   },
   "source": [
    "First reload the data we generated in `1_notmnist.ipynb`."
   ]
  },
  {
   "cell_type": "code",
   "execution_count": 2,
   "metadata": {
    "cellView": "both",
    "colab": {
     "autoexec": {
      "startup": false,
      "wait_interval": 0
     },
     "output_extras": [
      {
       "item_id": 1
      }
     ]
    },
    "colab_type": "code",
    "executionInfo": {
     "elapsed": 11777,
     "status": "ok",
     "timestamp": 1449849322348,
     "user": {
      "color": "",
      "displayName": "",
      "isAnonymous": false,
      "isMe": true,
      "permissionId": "",
      "photoUrl": "",
      "sessionId": "0",
      "userId": ""
     },
     "user_tz": 480
    },
    "id": "y3-cj1bpmuxc",
    "outputId": "e03576f1-ebbe-4838-c388-f1777bcc9873"
   },
   "outputs": [
    {
     "name": "stdout",
     "output_type": "stream",
     "text": [
      "Training set (200000, 28, 28) (200000,)\n",
      "Validation set (10000, 28, 28) (10000,)\n",
      "Test set (10000, 28, 28) (10000,)\n"
     ]
    }
   ],
   "source": [
    "pickle_file = 'notMNIST.pickle'\n",
    "\n",
    "with open(pickle_file, 'rb') as f:\n",
    "  save = pickle.load(f)\n",
    "  train_dataset = save['train_dataset']\n",
    "  train_labels = save['train_labels']\n",
    "  valid_dataset = save['valid_dataset']\n",
    "  valid_labels = save['valid_labels']\n",
    "  test_dataset = save['test_dataset']\n",
    "  test_labels = save['test_labels']\n",
    "  del save  # hint to help gc free up memory\n",
    "  print('Training set', train_dataset.shape, train_labels.shape)\n",
    "  print('Validation set', valid_dataset.shape, valid_labels.shape)\n",
    "  print('Test set', test_dataset.shape, test_labels.shape)"
   ]
  },
  {
   "cell_type": "markdown",
   "metadata": {
    "colab_type": "text",
    "id": "L7aHrm6nGDMB"
   },
   "source": [
    "Reformat into a shape that's more adapted to the models we're going to train:\n",
    "- data as a flat matrix,\n",
    "- labels as float 1-hot encodings."
   ]
  },
  {
   "cell_type": "code",
   "execution_count": 3,
   "metadata": {
    "cellView": "both",
    "colab": {
     "autoexec": {
      "startup": false,
      "wait_interval": 0
     },
     "output_extras": [
      {
       "item_id": 1
      }
     ]
    },
    "colab_type": "code",
    "executionInfo": {
     "elapsed": 11728,
     "status": "ok",
     "timestamp": 1449849322356,
     "user": {
      "color": "",
      "displayName": "",
      "isAnonymous": false,
      "isMe": true,
      "permissionId": "",
      "photoUrl": "",
      "sessionId": "0",
      "userId": ""
     },
     "user_tz": 480
    },
    "id": "IRSyYiIIGIzS",
    "outputId": "3f8996ee-3574-4f44-c953-5c8a04636582"
   },
   "outputs": [
    {
     "name": "stdout",
     "output_type": "stream",
     "text": [
      "Training set (200000, 784) (200000, 10)\n",
      "Validation set (10000, 784) (10000, 10)\n",
      "Test set (10000, 784) (10000, 10)\n"
     ]
    }
   ],
   "source": [
    "image_size = 28\n",
    "num_labels = 10\n",
    "\n",
    "def reformat(dataset, labels):\n",
    "  dataset = dataset.reshape((-1, image_size * image_size)).astype(np.float32)\n",
    "  # Map 1 to [0.0, 1.0, 0.0 ...], 2 to [0.0, 0.0, 1.0 ...]\n",
    "  labels = (np.arange(num_labels) == labels[:,None]).astype(np.float32)\n",
    "  return dataset, labels\n",
    "train_dataset, train_labels = reformat(train_dataset, train_labels)\n",
    "valid_dataset, valid_labels = reformat(valid_dataset, valid_labels)\n",
    "test_dataset, test_labels = reformat(test_dataset, test_labels)\n",
    "print('Training set', train_dataset.shape, train_labels.shape)\n",
    "print('Validation set', valid_dataset.shape, valid_labels.shape)\n",
    "print('Test set', test_dataset.shape, test_labels.shape)"
   ]
  },
  {
   "cell_type": "code",
   "execution_count": 4,
   "metadata": {
    "cellView": "both",
    "colab": {
     "autoexec": {
      "startup": false,
      "wait_interval": 0
     }
    },
    "colab_type": "code",
    "collapsed": true,
    "id": "RajPLaL_ZW6w"
   },
   "outputs": [],
   "source": [
    "def accuracy(predictions, labels):\n",
    "  return (100.0 * np.sum(np.argmax(predictions, 1) == np.argmax(labels, 1))\n",
    "          / predictions.shape[0])"
   ]
  },
  {
   "cell_type": "markdown",
   "metadata": {
    "colab_type": "text",
    "id": "sgLbUAQ1CW-1"
   },
   "source": [
    "---\n",
    "Problem 1\n",
    "---------\n",
    "\n",
    "Introduce and tune L2 regularization for both logistic and neural network models. Remember that L2 amounts to adding a penalty on the norm of the weights to the loss. In TensorFlow, you can compute the L2 loss for a tensor `t` using `nn.l2_loss(t)`. The right amount of regularization should improve your validation / test accuracy.\n",
    "\n",
    "---"
   ]
  },
  {
   "cell_type": "code",
   "execution_count": 10,
   "metadata": {},
   "outputs": [],
   "source": [
    "batch_size = 128\n",
    "\n",
    "graph = tf.Graph()\n",
    "with graph.as_default():\n",
    "  # Input data. For the training data, we use a placeholder that will be fed\n",
    "  # at run time with a training minibatch.\n",
    "  tf_train_dataset = tf.placeholder(tf.float32,\n",
    "                                    shape=(batch_size, image_size * image_size))\n",
    "  tf_train_labels = tf.placeholder(tf.float32, shape=(batch_size, num_labels))\n",
    "  tf_valid_dataset = tf.constant(valid_dataset)\n",
    "  tf_test_dataset = tf.constant(test_dataset)\n",
    "  tf_reg = tf.placeholder(tf.float32)\n",
    "  \n",
    "  # Variables.\n",
    "  weights = tf.Variable(\n",
    "    tf.truncated_normal([image_size * image_size, num_labels]))\n",
    "  biases = tf.Variable(tf.zeros([num_labels]))\n",
    "  \n",
    "  # Training computation.\n",
    "  logits = tf.matmul(tf_train_dataset, weights) + biases\n",
    "  loss = (tf.reduce_mean(\n",
    "    tf.nn.softmax_cross_entropy_with_logits(labels=tf_train_labels, logits=logits)) + \n",
    "    tf_reg*tf.nn.l2_loss(weights))\n",
    "  \n",
    "  # Optimizer.\n",
    "  optimizer = tf.train.GradientDescentOptimizer(0.5).minimize(loss)\n",
    "  \n",
    "  # Predictions for the training, validation, and test data.\n",
    "  train_prediction = tf.nn.softmax(logits)\n",
    "  valid_prediction = tf.nn.softmax(\n",
    "    tf.matmul(tf_valid_dataset, weights) + biases)\n",
    "  test_prediction = tf.nn.softmax(tf.matmul(tf_test_dataset, weights) + biases)"
   ]
  },
  {
   "cell_type": "code",
   "execution_count": 20,
   "metadata": {},
   "outputs": [
    {
     "name": "stdout",
     "output_type": "stream",
     "text": [
      "Regularized valid accuracy: 80.4% when reg paramer equals 0.00032\n",
      "Regularized valid accuracy: 80.8% when reg paramer equals 0.00035\n",
      "Regularized valid accuracy: 80.8% when reg paramer equals 0.00038\n",
      "Regularized valid accuracy: 80.7% when reg paramer equals 0.00041\n",
      "Regularized valid accuracy: 81.0% when reg paramer equals 0.00045\n",
      "Regularized valid accuracy: 81.2% when reg paramer equals 0.00049\n",
      "Regularized valid accuracy: 81.0% when reg paramer equals 0.00054\n",
      "Regularized valid accuracy: 81.5% when reg paramer equals 0.00059\n",
      "Regularized valid accuracy: 81.7% when reg paramer equals 0.00064\n",
      "Regularized valid accuracy: 81.4% when reg paramer equals 0.00070\n",
      "Regularized valid accuracy: 81.8% when reg paramer equals 0.00077\n",
      "Regularized valid accuracy: 81.7% when reg paramer equals 0.00084\n",
      "Regularized valid accuracy: 81.9% when reg paramer equals 0.00092\n",
      "Regularized valid accuracy: 81.8% when reg paramer equals 0.00100\n",
      "Regularized valid accuracy: 81.9% when reg paramer equals 0.00109\n",
      "Regularized valid accuracy: 82.0% when reg paramer equals 0.00119\n",
      "Regularized valid accuracy: 81.9% when reg paramer equals 0.00130\n",
      "Regularized valid accuracy: 82.1% when reg paramer equals 0.00143\n",
      "Regularized valid accuracy: 81.9% when reg paramer equals 0.00156\n",
      "Regularized valid accuracy: 81.9% when reg paramer equals 0.00170\n",
      "Regularized valid accuracy: 81.9% when reg paramer equals 0.00186\n",
      "Regularized valid accuracy: 81.9% when reg paramer equals 0.00203\n",
      "Regularized valid accuracy: 81.9% when reg paramer equals 0.00222\n",
      "Regularized valid accuracy: 81.9% when reg paramer equals 0.00242\n",
      "Regularized valid accuracy: 81.8% when reg paramer equals 0.00265\n",
      "Regularized valid accuracy: 81.8% when reg paramer equals 0.00289\n",
      "Regularized valid accuracy: 81.8% when reg paramer equals 0.00316\n",
      "Regularized valid accuracy: 81.7% when reg paramer equals 0.00346\n",
      "Regularized valid accuracy: 81.7% when reg paramer equals 0.00378\n",
      "Regularized valid accuracy: 81.7% when reg paramer equals 0.00412\n",
      "Regularized valid accuracy: 81.7% when reg paramer equals 0.00451\n",
      "Regularized valid accuracy: 81.6% when reg paramer equals 0.00492\n",
      "Regularized valid accuracy: 81.6% when reg paramer equals 0.00538\n",
      "Regularized valid accuracy: 81.6% when reg paramer equals 0.00588\n",
      "Regularized valid accuracy: 81.5% when reg paramer equals 0.00642\n",
      "Regularized valid accuracy: 81.5% when reg paramer equals 0.00702\n",
      "Regularized valid accuracy: 81.5% when reg paramer equals 0.00767\n",
      "Regularized valid accuracy: 81.5% when reg paramer equals 0.00838\n",
      "Regularized valid accuracy: 81.5% when reg paramer equals 0.00915\n",
      "Regularized valid accuracy: 81.4% when reg paramer equals 0.01000\n"
     ]
    }
   ],
   "source": [
    "num_steps = 3001\n",
    "reg_set = np.logspace(-3.5, -2, 40)\n",
    "valid_acc_track = []\n",
    "\n",
    "with tf.Session(graph=graph) as session:\n",
    "    for reg in reg_set:\n",
    "      tf.global_variables_initializer().run()\n",
    "      #print(\"Initialized\")\n",
    "      for step in range(num_steps):\n",
    "        # Pick an offset within the training data, which has been randomized.\n",
    "        # Note: we could use better randomization across epochs.\n",
    "        offset = (step * batch_size) % (train_labels.shape[0] - batch_size)\n",
    "        # Generate a minibatch.\n",
    "        batch_data = train_dataset[offset:(offset + batch_size), :]\n",
    "        batch_labels = train_labels[offset:(offset + batch_size), :]\n",
    "        # Prepare a dictionary telling the session where to feed the minibatch.\n",
    "        # The key of the dictionary is the placeholder node of the graph to be fed,\n",
    "        # and the value is the numpy array to feed to it.\n",
    "        feed_dict = {tf_train_dataset : batch_data, tf_train_labels : batch_labels, tf_reg : reg}\n",
    "        _, l, predictions = session.run(\n",
    "          [optimizer, loss, train_prediction], feed_dict=feed_dict)\n",
    "        \n",
    "      print(\"Regularized valid accuracy: %.1f%% when reg paramer equals %.5f\" %\n",
    "           (accuracy(valid_prediction.eval(), valid_labels), reg))\n",
    "      #print(\"Regularized test accuracy: %.1f%% when reg paramer equals %.5f\" %\n",
    "      #     (accuracy(test_prediction.eval(), test_labels), reg))\n",
    "        \n",
    "      valid_acc_track.append(accuracy(valid_prediction.eval(), valid_labels))    "
   ]
  },
  {
   "cell_type": "code",
   "execution_count": 22,
   "metadata": {
    "scrolled": true
   },
   "outputs": [
    {
     "name": "stdout",
     "output_type": "stream",
     "text": [
      "Best beta=0.00143, accuracy=82.1%\n"
     ]
    },
    {
     "data": {
      "image/png": "[encoded data removed]",
      "text/plain": [
       "<matplotlib.figure.Figure at 0x219891bcd68>"
      ]
     },
     "metadata": {},
     "output_type": "display_data"
    }
   ],
   "source": [
    "import matplotlib.pyplot as plt\n",
    "\n",
    "print('Best beta=%.5f, accuracy=%.1f%%' % (reg_set[np.argmax(valid_acc_track)], max(valid_acc_track)))\n",
    "plt.semilogx(reg_set, valid_acc_track)\n",
    "plt.grid(True)\n",
    "plt.title('Validation accuracy by regularization (logistic)')\n",
    "plt.show()"
   ]
  },
  {
   "cell_type": "markdown",
   "metadata": {},
   "source": [
    "Train model with the best regularization parameter:"
   ]
  },
  {
   "cell_type": "code",
   "execution_count": 21,
   "metadata": {},
   "outputs": [
    {
     "name": "stdout",
     "output_type": "stream",
     "text": [
      "Regularized test accuracy: 89.2% when reg paramer equals 0.00143\n"
     ]
    }
   ],
   "source": [
    "with tf.Session(graph=graph) as session:\n",
    "  tf.global_variables_initializer().run()\n",
    "  #print(\"Initialized\")\n",
    "  for step in range(num_steps):\n",
    "    # Pick an offset within the training data, which has been randomized.\n",
    "    # Note: we could use better randomization across epochs.\n",
    "    offset = (step * batch_size) % (train_labels.shape[0] - batch_size)\n",
    "    # Generate a minibatch.\n",
    "    batch_data = train_dataset[offset:(offset + batch_size), :]\n",
    "    batch_labels = train_labels[offset:(offset + batch_size), :]\n",
    "    # Prepare a dictionary telling the session where to feed the minibatch.\n",
    "    # The key of the dictionary is the placeholder node of the graph to be fed,\n",
    "    # and the value is the numpy array to feed to it.\n",
    "    feed_dict = {tf_train_dataset : batch_data, tf_train_labels : batch_labels, \n",
    "                 tf_reg : reg_set[np.argmax(valid_acc_track)]}\n",
    "    _, l, predictions = session.run(\n",
    "      [optimizer, loss, train_prediction], feed_dict=feed_dict)\n",
    "        \n",
    "  print(\"Regularized test accuracy: %.1f%% when reg paramer equals %.5f\" %\n",
    "        (accuracy(test_prediction.eval(), test_labels), \n",
    "         reg_set[np.argmax(valid_acc_track)]))"
   ]
  },
  {
   "cell_type": "markdown",
   "metadata": {},
   "source": [
    "Let's now try one hidden layer:"
   ]
  },
  {
   "cell_type": "code",
   "execution_count": 23,
   "metadata": {
    "collapsed": true
   },
   "outputs": [],
   "source": [
    "batch_size = 128\n",
    "hidden_size = 1024\n",
    "\n",
    "graph = tf.Graph()\n",
    "with graph.as_default():\n",
    "    # Input data. For the training data, we use a placeholder that will be fed\n",
    "    # at run time with a training minibatch.\n",
    "    tf_train_dataset = tf.placeholder(tf.float32,\n",
    "                                      shape=(batch_size, image_size * image_size))\n",
    "    tf_train_labels = tf.placeholder(tf.float32, shape=(batch_size, num_labels))\n",
    "    tf_valid_dataset = tf.constant(valid_dataset)\n",
    "    tf_test_dataset = tf.constant(test_dataset)\n",
    "    tf_reg = tf.placeholder(tf.float32)\n",
    "\n",
    "    # Variables for hidden layer.\n",
    "    W1 = tf.Variable(tf.truncated_normal([image_size * image_size, hidden_size]))\n",
    "    b1 = tf.Variable(tf.zeros([hidden_size]))\n",
    "\n",
    "    # Variables for output layer.\n",
    "    W2 = tf.Variable(tf.truncated_normal([hidden_size, num_labels]))\n",
    "    b2 = tf.Variable(tf.zeros([num_labels]))\n",
    "\n",
    "    # Training computation.\n",
    "    z1 = tf.matmul(tf_train_dataset, W1) + b1\n",
    "    h1 = tf.nn.relu(z1)\n",
    "    logits = tf.matmul(h1, W2) + b2\n",
    "\n",
    "    loss = (tf.reduce_mean(\n",
    "            tf.nn.softmax_cross_entropy_with_logits(labels=tf_train_labels, logits=logits)) +\n",
    "            tf_reg*tf.nn.l2_loss(W1) + tf_reg*tf.nn.l2_loss(W2))\n",
    "\n",
    "    # Optimizer.\n",
    "    optimizer = tf.train.GradientDescentOptimizer(0.5).minimize(loss)\n",
    "\n",
    "    # Predictions for the training, validation, and test data.\n",
    "    train_prediction = tf.nn.softmax(logits)\n",
    "\n",
    "    z1_valid = tf.matmul(tf_valid_dataset, W1) + b1\n",
    "    h1_valid = tf.nn.relu(z1_valid)\n",
    "    valid_logits = tf.matmul(h1_valid, W2) + b2\n",
    "    valid_prediction = tf.nn.softmax(valid_logits)\n",
    "\n",
    "    z1_test = tf.matmul(tf_test_dataset, W1) + b1\n",
    "    h1_test = tf.nn.relu(z1_test)\n",
    "    test_logits = tf.matmul(h1_test, W2) + b2\n",
    "    test_prediction = tf.nn.softmax(test_logits)"
   ]
  },
  {
   "cell_type": "code",
   "execution_count": 24,
   "metadata": {},
   "outputs": [
    {
     "name": "stdout",
     "output_type": "stream",
     "text": [
      "Regularized valid accuracy: 82.5% when reg paramer equals 0.00010\n",
      "Regularized valid accuracy: 82.7% when reg paramer equals 0.00011\n",
      "Regularized valid accuracy: 82.6% when reg paramer equals 0.00013\n",
      "Regularized valid accuracy: 83.0% when reg paramer equals 0.00014\n",
      "Regularized valid accuracy: 82.8% when reg paramer equals 0.00016\n",
      "Regularized valid accuracy: 82.6% when reg paramer equals 0.00018\n",
      "Regularized valid accuracy: 82.1% when reg paramer equals 0.00020\n",
      "Regularized valid accuracy: 82.7% when reg paramer equals 0.00023\n",
      "Regularized valid accuracy: 83.3% when reg paramer equals 0.00026\n",
      "Regularized valid accuracy: 83.7% when reg paramer equals 0.00029\n",
      "Regularized valid accuracy: 83.3% when reg paramer equals 0.00033\n",
      "Regularized valid accuracy: 83.8% when reg paramer equals 0.00037\n",
      "Regularized valid accuracy: 84.6% when reg paramer equals 0.00041\n",
      "Regularized valid accuracy: 84.6% when reg paramer equals 0.00046\n",
      "Regularized valid accuracy: 84.5% when reg paramer equals 0.00052\n",
      "Regularized valid accuracy: 85.1% when reg paramer equals 0.00059\n",
      "Regularized valid accuracy: 85.3% when reg paramer equals 0.00066\n",
      "Regularized valid accuracy: 85.9% when reg paramer equals 0.00074\n",
      "Regularized valid accuracy: 86.1% when reg paramer equals 0.00084\n",
      "Regularized valid accuracy: 86.2% when reg paramer equals 0.00094\n",
      "Regularized valid accuracy: 86.3% when reg paramer equals 0.00106\n",
      "Regularized valid accuracy: 87.0% when reg paramer equals 0.00119\n",
      "Regularized valid accuracy: 86.6% when reg paramer equals 0.00134\n",
      "Regularized valid accuracy: 86.8% when reg paramer equals 0.00151\n",
      "Regularized valid accuracy: 86.5% when reg paramer equals 0.00170\n",
      "Regularized valid accuracy: 86.4% when reg paramer equals 0.00191\n",
      "Regularized valid accuracy: 86.4% when reg paramer equals 0.00215\n",
      "Regularized valid accuracy: 86.2% when reg paramer equals 0.00242\n",
      "Regularized valid accuracy: 86.1% when reg paramer equals 0.00273\n",
      "Regularized valid accuracy: 86.0% when reg paramer equals 0.00307\n",
      "Regularized valid accuracy: 85.8% when reg paramer equals 0.00346\n",
      "Regularized valid accuracy: 85.6% when reg paramer equals 0.00389\n",
      "Regularized valid accuracy: 85.4% when reg paramer equals 0.00438\n",
      "Regularized valid accuracy: 85.1% when reg paramer equals 0.00492\n",
      "Regularized valid accuracy: 84.8% when reg paramer equals 0.00554\n",
      "Regularized valid accuracy: 84.6% when reg paramer equals 0.00624\n",
      "Regularized valid accuracy: 84.2% when reg paramer equals 0.00702\n",
      "Regularized valid accuracy: 84.1% when reg paramer equals 0.00790\n",
      "Regularized valid accuracy: 83.7% when reg paramer equals 0.00889\n",
      "Regularized valid accuracy: 83.4% when reg paramer equals 0.01000\n"
     ]
    }
   ],
   "source": [
    "num_steps = 3001\n",
    "reg_set = np.logspace(-4, -2, 40)\n",
    "valid_acc_track = []\n",
    "\n",
    "with tf.Session(graph=graph) as session:\n",
    "    for reg in reg_set:\n",
    "      tf.global_variables_initializer().run()\n",
    "      #print(\"Initialized\")\n",
    "      for step in range(num_steps):\n",
    "        # Pick an offset within the training data, which has been randomized.\n",
    "        # Note: we could use better randomization across epochs.\n",
    "        offset = (step * batch_size) % (train_labels.shape[0] - batch_size)\n",
    "        # Generate a minibatch.\n",
    "        batch_data = train_dataset[offset:(offset + batch_size), :]\n",
    "        batch_labels = train_labels[offset:(offset + batch_size), :]\n",
    "        # Prepare a dictionary telling the session where to feed the minibatch.\n",
    "        # The key of the dictionary is the placeholder node of the graph to be fed,\n",
    "        # and the value is the numpy array to feed to it.\n",
    "        feed_dict = {tf_train_dataset : batch_data, tf_train_labels : batch_labels, tf_reg : reg}\n",
    "        _, l, predictions = session.run(\n",
    "          [optimizer, loss, train_prediction], feed_dict=feed_dict)\n",
    "        \n",
    "      print(\"Regularized valid accuracy: %.1f%% when reg paramer equals %.5f\" %\n",
    "           (accuracy(valid_prediction.eval(), valid_labels), reg))\n",
    "      #print(\"Regularized test accuracy: %.1f%% when reg paramer equals %.5f\" %\n",
    "      #     (accuracy(test_prediction.eval(), test_labels), reg))\n",
    "        \n",
    "      valid_acc_track.append(accuracy(valid_prediction.eval(), valid_labels))    "
   ]
  },
  {
   "cell_type": "code",
   "execution_count": 25,
   "metadata": {},
   "outputs": [
    {
     "name": "stdout",
     "output_type": "stream",
     "text": [
      "Best beta=0.00119, accuracy=87.0%\n"
     ]
    },
    {
     "data": {
      "image/png": "[encoded data removed]",
      "text/plain": [
       "<matplotlib.figure.Figure at 0x2198ec38eb8>"
      ]
     },
     "metadata": {},
     "output_type": "display_data"
    }
   ],
   "source": [
    "import matplotlib.pyplot as plt\n",
    "\n",
    "print('Best beta=%.5f, accuracy=%.1f%%' % (reg_set[np.argmax(valid_acc_track)], max(valid_acc_track)))\n",
    "plt.semilogx(reg_set, valid_acc_track)\n",
    "plt.grid(True)\n",
    "plt.title('Validation accuracy by regularization (logistic)')\n",
    "plt.show()"
   ]
  },
  {
   "cell_type": "code",
   "execution_count": 26,
   "metadata": {},
   "outputs": [
    {
     "name": "stdout",
     "output_type": "stream",
     "text": [
      "Regularized test accuracy: 93.3% when reg paramer equals 0.00119\n"
     ]
    }
   ],
   "source": [
    "with tf.Session(graph=graph) as session:\n",
    "  tf.global_variables_initializer().run()\n",
    "  #print(\"Initialized\")\n",
    "  for step in range(num_steps):\n",
    "    # Pick an offset within the training data, which has been randomized.\n",
    "    # Note: we could use better randomization across epochs.\n",
    "    offset = (step * batch_size) % (train_labels.shape[0] - batch_size)\n",
    "    # Generate a minibatch.\n",
    "    batch_data = train_dataset[offset:(offset + batch_size), :]\n",
    "    batch_labels = train_labels[offset:(offset + batch_size), :]\n",
    "    # Prepare a dictionary telling the session where to feed the minibatch.\n",
    "    # The key of the dictionary is the placeholder node of the graph to be fed,\n",
    "    # and the value is the numpy array to feed to it.\n",
    "    feed_dict = {tf_train_dataset : batch_data, tf_train_labels : batch_labels, \n",
    "                 tf_reg : reg_set[np.argmax(valid_acc_track)]}\n",
    "    _, l, predictions = session.run(\n",
    "      [optimizer, loss, train_prediction], feed_dict=feed_dict)\n",
    "        \n",
    "  print(\"Regularized test accuracy: %.1f%% when reg paramer equals %.5f\" %\n",
    "        (accuracy(test_prediction.eval(), test_labels), \n",
    "         reg_set[np.argmax(valid_acc_track)]))"
   ]
  },
  {
   "cell_type": "markdown",
   "metadata": {
    "colab_type": "text",
    "id": "na8xX2yHZzNF"
   },
   "source": [
    "---\n",
    "Problem 2\n",
    "---------\n",
    "Let's demonstrate an extreme case of overfitting. Restrict your training data to just a few batches. What happens?\n",
    "\n",
    "---"
   ]
  },
  {
   "cell_type": "code",
   "execution_count": 28,
   "metadata": {},
   "outputs": [
    {
     "name": "stdout",
     "output_type": "stream",
     "text": [
      "Training set (640, 784) (640, 10)\n",
      "Regularized valid accuracy: 75.3% when reg paramer equals 0.00010\n",
      "Regularized valid accuracy: 76.3% when reg paramer equals 0.00013\n",
      "Regularized valid accuracy: 76.2% when reg paramer equals 0.00016\n",
      "Regularized valid accuracy: 75.5% when reg paramer equals 0.00021\n",
      "Regularized valid accuracy: 75.8% when reg paramer equals 0.00026\n",
      "Regularized valid accuracy: 75.6% when reg paramer equals 0.00034\n",
      "Regularized valid accuracy: 75.7% when reg paramer equals 0.00043\n",
      "Regularized valid accuracy: 75.9% when reg paramer equals 0.00055\n",
      "Regularized valid accuracy: 75.3% when reg paramer equals 0.00070\n",
      "Regularized valid accuracy: 76.6% when reg paramer equals 0.00089\n",
      "Regularized valid accuracy: 75.5% when reg paramer equals 0.00113\n",
      "Regularized valid accuracy: 77.6% when reg paramer equals 0.00144\n",
      "Regularized valid accuracy: 79.3% when reg paramer equals 0.00183\n",
      "Regularized valid accuracy: 79.6% when reg paramer equals 0.00234\n",
      "Regularized valid accuracy: 79.7% when reg paramer equals 0.00298\n",
      "Regularized valid accuracy: 79.9% when reg paramer equals 0.00379\n",
      "Regularized valid accuracy: 79.8% when reg paramer equals 0.00483\n",
      "Regularized valid accuracy: 79.7% when reg paramer equals 0.00616\n",
      "Regularized valid accuracy: 79.8% when reg paramer equals 0.00785\n",
      "Regularized valid accuracy: 79.8% when reg paramer equals 0.01000\n"
     ]
    }
   ],
   "source": [
    "few_batch_size = batch_size * 5\n",
    "small_train_dataset = train_dataset[:few_batch_size, :]\n",
    "small_train_labels = train_labels[:few_batch_size, :]\n",
    "print('Training set', small_train_dataset.shape, small_train_labels.shape)\n",
    "\n",
    "num_steps = 3001\n",
    "reg_set = np.logspace(-4, -2, 20)\n",
    "valid_acc_track = []\n",
    "\n",
    "with tf.Session(graph=graph, config=tf.ConfigProto(log_device_placement=True)) as session:\n",
    "    for reg in reg_set:\n",
    "      tf.global_variables_initializer().run()\n",
    "      #print(\"Initialized\")\n",
    "      for step in range(num_steps):\n",
    "        # Pick an offset within the training data, which has been randomized.\n",
    "        # Note: we could use better randomization across epochs.\n",
    "        offset = (step * batch_size) % (small_train_labels.shape[0] - batch_size)\n",
    "        # Generate a minibatch.\n",
    "        batch_data = small_train_dataset[offset:(offset + batch_size), :]\n",
    "        batch_labels = small_train_labels[offset:(offset + batch_size), :]\n",
    "        # Prepare a dictionary telling the session where to feed the minibatch.\n",
    "        # The key of the dictionary is the placeholder node of the graph to be fed,\n",
    "        # and the value is the numpy array to feed to it.\n",
    "        feed_dict = {tf_train_dataset : batch_data, tf_train_labels : batch_labels, tf_reg : reg}\n",
    "        _, l, predictions = session.run(\n",
    "          [optimizer, loss, train_prediction], feed_dict=feed_dict)\n",
    "        \n",
    "      print(\"Regularized valid accuracy: %.1f%% when reg paramer equals %.5f\" %\n",
    "           (accuracy(valid_prediction.eval(), valid_labels), reg))\n",
    "      #print(\"Regularized test accuracy: %.1f%% when reg paramer equals %.5f\" %\n",
    "      #     (accuracy(test_prediction.eval(), test_labels), reg))\n",
    "        \n",
    "      valid_acc_track.append(accuracy(valid_prediction.eval(), valid_labels))    "
   ]
  },
  {
   "cell_type": "code",
   "execution_count": 29,
   "metadata": {},
   "outputs": [
    {
     "name": "stdout",
     "output_type": "stream",
     "text": [
      "Best beta=0.00379, accuracy=79.9%\n"
     ]
    },
    {
     "data": {
      "image/png": "[encoded data removed]",
      "text/plain": [
       "<matplotlib.figure.Figure at 0x219840fa6a0>"
      ]
     },
     "metadata": {},
     "output_type": "display_data"
    }
   ],
   "source": [
    "import matplotlib.pyplot as plt\n",
    "\n",
    "print('Best beta=%.5f, accuracy=%.1f%%' % (reg_set[np.argmax(valid_acc_track)], max(valid_acc_track)))\n",
    "plt.semilogx(reg_set, valid_acc_track)\n",
    "plt.grid(True)\n",
    "plt.title('Validation accuracy by regularization (logistic)')\n",
    "plt.show()"
   ]
  },
  {
   "cell_type": "code",
   "execution_count": 30,
   "metadata": {},
   "outputs": [
    {
     "name": "stdout",
     "output_type": "stream",
     "text": [
      "Regularized test accuracy: 86.6% when reg paramer equals 0.00379\n"
     ]
    }
   ],
   "source": [
    "with tf.Session(graph=graph) as session:\n",
    "  tf.global_variables_initializer().run()\n",
    "  #print(\"Initialized\")\n",
    "  for step in range(num_steps):\n",
    "    # Pick an offset within the training data, which has been randomized.\n",
    "    # Note: we could use better randomization across epochs.\n",
    "    offset = (step * batch_size) % (small_train_labels.shape[0] - batch_size)\n",
    "    # Generate a minibatch.\n",
    "    batch_data = small_train_dataset[offset:(offset + batch_size), :]\n",
    "    batch_labels = small_train_labels[offset:(offset + batch_size), :]\n",
    "    # Prepare a dictionary telling the session where to feed the minibatch.\n",
    "    # The key of the dictionary is the placeholder node of the graph to be fed,\n",
    "    # and the value is the numpy array to feed to it.\n",
    "    feed_dict = {tf_train_dataset : batch_data, tf_train_labels : batch_labels, \n",
    "                 tf_reg : reg_set[np.argmax(valid_acc_track)]}\n",
    "    _, l, predictions = session.run(\n",
    "      [optimizer, loss, train_prediction], feed_dict=feed_dict)\n",
    "        \n",
    "  print(\"Regularized test accuracy: %.1f%% when reg paramer equals %.5f\" %\n",
    "        (accuracy(test_prediction.eval(), test_labels), \n",
    "         reg_set[np.argmax(valid_acc_track)]))"
   ]
  },
  {
   "cell_type": "markdown",
   "metadata": {
    "colab_type": "text",
    "id": "ww3SCBUdlkRc"
   },
   "source": [
    "---\n",
    "Problem 3\n",
    "---------\n",
    "Introduce Dropout on the hidden layer of the neural network. Remember: Dropout should only be introduced during training, not evaluation, otherwise your evaluation results would be stochastic as well. TensorFlow provides `nn.dropout()` for that, but you have to make sure it's only inserted during training.\n",
    "\n",
    "What happens to our extreme overfitting case?\n",
    "\n",
    "---"
   ]
  },
  {
   "cell_type": "code",
   "execution_count": 33,
   "metadata": {
    "collapsed": true
   },
   "outputs": [],
   "source": [
    "batch_size = 128\n",
    "hidden_size = 1024\n",
    "\n",
    "graph = tf.Graph()\n",
    "with graph.as_default():\n",
    "    # Input data. For the training data, we use a placeholder that will be fed\n",
    "    # at run time with a training minibatch.\n",
    "    tf_train_dataset = tf.placeholder(tf.float32,\n",
    "                                      shape=(batch_size, image_size * image_size))\n",
    "    tf_train_labels = tf.placeholder(tf.float32, shape=(batch_size, num_labels))\n",
    "    tf_valid_dataset = tf.constant(valid_dataset)\n",
    "    tf_test_dataset = tf.constant(test_dataset)\n",
    "    tf_reg = tf.placeholder(tf.float32)\n",
    "\n",
    "    # Variables for hidden layer.\n",
    "    W1 = tf.Variable(tf.truncated_normal([image_size * image_size, hidden_size]))\n",
    "    b1 = tf.Variable(tf.zeros([hidden_size]))\n",
    "\n",
    "    # Variables for output layer.\n",
    "    W2 = tf.Variable(tf.truncated_normal([hidden_size, num_labels]))\n",
    "    b2 = tf.Variable(tf.zeros([num_labels]))\n",
    "\n",
    "    # Training computation.\n",
    "    z1 = tf.matmul(tf_train_dataset, W1) + b1\n",
    "    h1 = tf.nn.relu(z1)\n",
    "    h1 = tf.nn.dropout(h1, keep_prob=0.5)\n",
    "    logits = tf.matmul(h1, W2) + b2\n",
    "\n",
    "    loss = (tf.reduce_mean(\n",
    "            tf.nn.softmax_cross_entropy_with_logits(labels=tf_train_labels, logits=logits)) +\n",
    "            tf_reg*tf.nn.l2_loss(W1) + tf_reg*tf.nn.l2_loss(W2))\n",
    "\n",
    "    # Optimizer.\n",
    "    optimizer = tf.train.GradientDescentOptimizer(0.5).minimize(loss)\n",
    "\n",
    "    # Predictions for the training, validation, and test data.\n",
    "    train_prediction = tf.nn.softmax(logits)\n",
    "\n",
    "    z1_valid = tf.matmul(tf_valid_dataset, W1) + b1\n",
    "    h1_valid = tf.nn.relu(z1_valid)\n",
    "    valid_logits = tf.matmul(h1_valid, W2) + b2\n",
    "    valid_prediction = tf.nn.softmax(valid_logits)\n",
    "\n",
    "    z1_test = tf.matmul(tf_test_dataset, W1) + b1\n",
    "    h1_test = tf.nn.relu(z1_test)\n",
    "    test_logits = tf.matmul(h1_test, W2) + b2\n",
    "    test_prediction = tf.nn.softmax(test_logits)"
   ]
  },
  {
   "cell_type": "code",
   "execution_count": 34,
   "metadata": {},
   "outputs": [
    {
     "name": "stdout",
     "output_type": "stream",
     "text": [
      "Regularized valid accuracy: 80.4% when reg paramer equals 0.00010\n",
      "Regularized valid accuracy: 80.9% when reg paramer equals 0.00013\n",
      "Regularized valid accuracy: 80.9% when reg paramer equals 0.00016\n",
      "Regularized valid accuracy: 81.0% when reg paramer equals 0.00021\n",
      "Regularized valid accuracy: 81.8% when reg paramer equals 0.00026\n",
      "Regularized valid accuracy: 82.2% when reg paramer equals 0.00034\n",
      "Regularized valid accuracy: 82.8% when reg paramer equals 0.00043\n",
      "Regularized valid accuracy: 83.1% when reg paramer equals 0.00055\n",
      "Regularized valid accuracy: 84.4% when reg paramer equals 0.00070\n",
      "Regularized valid accuracy: 84.9% when reg paramer equals 0.00089\n",
      "Regularized valid accuracy: 85.2% when reg paramer equals 0.00113\n",
      "Regularized valid accuracy: 85.4% when reg paramer equals 0.00144\n",
      "Regularized valid accuracy: 85.0% when reg paramer equals 0.00183\n",
      "Regularized valid accuracy: 85.1% when reg paramer equals 0.00234\n",
      "Regularized valid accuracy: 85.0% when reg paramer equals 0.00298\n",
      "Regularized valid accuracy: 84.4% when reg paramer equals 0.00379\n",
      "Regularized valid accuracy: 84.1% when reg paramer equals 0.00483\n",
      "Regularized valid accuracy: 84.0% when reg paramer equals 0.00616\n",
      "Regularized valid accuracy: 83.3% when reg paramer equals 0.00785\n",
      "Regularized valid accuracy: 83.2% when reg paramer equals 0.01000\n"
     ]
    }
   ],
   "source": [
    "num_steps = 3001\n",
    "reg_set = np.logspace(-4, -2, 20)\n",
    "valid_acc_track = []\n",
    "\n",
    "with tf.Session(graph=graph) as session:\n",
    "    for reg in reg_set:\n",
    "      tf.global_variables_initializer().run()\n",
    "      #print(\"Initialized\")\n",
    "      for step in range(num_steps):\n",
    "        # Pick an offset within the training data, which has been randomized.\n",
    "        # Note: we could use better randomization across epochs.\n",
    "        offset = (step * batch_size) % (train_labels.shape[0] - batch_size)\n",
    "        # Generate a minibatch.\n",
    "        batch_data = train_dataset[offset:(offset + batch_size), :]\n",
    "        batch_labels = train_labels[offset:(offset + batch_size), :]\n",
    "        # Prepare a dictionary telling the session where to feed the minibatch.\n",
    "        # The key of the dictionary is the placeholder node of the graph to be fed,\n",
    "        # and the value is the numpy array to feed to it.\n",
    "        feed_dict = {tf_train_dataset : batch_data, tf_train_labels : batch_labels, tf_reg : reg}\n",
    "        _, l, predictions = session.run(\n",
    "          [optimizer, loss, train_prediction], feed_dict=feed_dict)\n",
    "        \n",
    "      print(\"Regularized valid accuracy: %.1f%% when reg paramer equals %.5f\" %\n",
    "           (accuracy(valid_prediction.eval(), valid_labels), reg))\n",
    "      #print(\"Regularized test accuracy: %.1f%% when reg paramer equals %.5f\" %\n",
    "      #     (accuracy(test_prediction.eval(), test_labels), reg))\n",
    "        \n",
    "      valid_acc_track.append(accuracy(valid_prediction.eval(), valid_labels))    "
   ]
  },
  {
   "cell_type": "code",
   "execution_count": 35,
   "metadata": {},
   "outputs": [
    {
     "name": "stdout",
     "output_type": "stream",
     "text": [
      "Best beta=0.00144, accuracy=85.4%\n"
     ]
    },
    {
     "data": {
      "image/png": "[encoded data removed]",
      "text/plain": [
       "<matplotlib.figure.Figure at 0x2198ebea898>"
      ]
     },
     "metadata": {},
     "output_type": "display_data"
    }
   ],
   "source": [
    "import matplotlib.pyplot as plt\n",
    "\n",
    "print('Best beta=%.5f, accuracy=%.1f%%' % (reg_set[np.argmax(valid_acc_track)], max(valid_acc_track)))\n",
    "plt.semilogx(reg_set, valid_acc_track)\n",
    "plt.grid(True)\n",
    "plt.title('Validation accuracy by regularization (logistic)')\n",
    "plt.show()"
   ]
  },
  {
   "cell_type": "code",
   "execution_count": 37,
   "metadata": {},
   "outputs": [
    {
     "name": "stdout",
     "output_type": "stream",
     "text": [
      "Regularized test accuracy: 92.2% when reg paramer equals 0.00144\n"
     ]
    }
   ],
   "source": [
    "with tf.Session(graph=graph) as session:\n",
    "  tf.global_variables_initializer().run()\n",
    "  #print(\"Initialized\")\n",
    "  for step in range(num_steps):\n",
    "    # Pick an offset within the training data, which has been randomized.\n",
    "    # Note: we could use better randomization across epochs.\n",
    "    offset = (step * batch_size) % (train_labels.shape[0] - batch_size)\n",
    "    # Generate a minibatch.\n",
    "    batch_data = train_dataset[offset:(offset + batch_size), :]\n",
    "    batch_labels = train_labels[offset:(offset + batch_size), :]\n",
    "    # Prepare a dictionary telling the session where to feed the minibatch.\n",
    "    # The key of the dictionary is the placeholder node of the graph to be fed,\n",
    "    # and the value is the numpy array to feed to it.\n",
    "    feed_dict = {tf_train_dataset : batch_data, tf_train_labels : batch_labels, \n",
    "                 tf_reg : reg_set[np.argmax(valid_acc_track)]}\n",
    "    _, l, predictions = session.run(\n",
    "      [optimizer, loss, train_prediction], feed_dict=feed_dict)\n",
    "        \n",
    "  print(\"Regularized test accuracy: %.1f%% when reg paramer equals %.5f\" %\n",
    "        (accuracy(test_prediction.eval(), test_labels), \n",
    "         reg_set[np.argmax(valid_acc_track)]))"
   ]
  },
  {
   "cell_type": "markdown",
   "metadata": {
    "colab_type": "text",
    "id": "-b1hTz3VWZjw"
   },
   "source": [
    "---\n",
    "Problem 4\n",
    "---------\n",
    "\n",
    "Try to get the best performance you can using a multi-layer model! The best reported test accuracy using a deep network is [97.1%](http://yaroslavvb.blogspot.com/2011/09/notmnist-dataset.html?showComment=1391023266211#c8758720086795711595).\n",
    "\n",
    "One avenue you can explore is to add multiple layers.\n",
    "\n",
    "Another one is to use learning rate decay:\n",
    "\n",
    "    global_step = tf.Variable(0)  # count the number of steps taken.\n",
    "    learning_rate = tf.train.exponential_decay(0.5, global_step, ...)\n",
    "    optimizer = tf.train.GradientDescentOptimizer(learning_rate).minimize(loss, global_step=global_step)\n",
    " \n",
    " ---\n"
   ]
  },
  {
   "cell_type": "code",
   "execution_count": 46,
   "metadata": {
    "collapsed": true
   },
   "outputs": [],
   "source": [
    "batch_size = 128\n",
    "hidden_size = 1024\n",
    "\n",
    "graph = tf.Graph()\n",
    "with graph.as_default():\n",
    "    # Input data. For the training data, we use a placeholder that will be fed\n",
    "    # at run time with a training minibatch.\n",
    "    tf_train_dataset = tf.placeholder(tf.float32,\n",
    "                                      shape=(batch_size, image_size * image_size))\n",
    "    tf_train_labels = tf.placeholder(tf.float32, shape=(batch_size, num_labels))\n",
    "    tf_valid_dataset = tf.constant(valid_dataset)\n",
    "    tf_test_dataset = tf.constant(test_dataset)\n",
    "    tf_reg = tf.placeholder(tf.float32)\n",
    "    \n",
    "    global_step = tf.Variable(0, trainable=False)  # count the number of steps taken.\n",
    "    learning_rate = tf.train.exponential_decay(0.5, global_step, decay_steps=1000, decay_rate=0.90, \n",
    "                                               staircase=True)\n",
    "\n",
    "    # Variables for hidden layer.\n",
    "    W1 = tf.Variable(tf.truncated_normal([image_size * image_size, hidden_size]))\n",
    "    b1 = tf.Variable(tf.zeros([hidden_size]))\n",
    "\n",
    "    # Variables for output layer.\n",
    "    W2 = tf.Variable(tf.truncated_normal([hidden_size, num_labels]))\n",
    "    b2 = tf.Variable(tf.zeros([num_labels]))\n",
    "\n",
    "    # Training computation.\n",
    "    z1 = tf.matmul(tf_train_dataset, W1) + b1\n",
    "    h1 = tf.nn.relu(z1)\n",
    "    #h1 = tf.nn.dropout(h1, keep_prob=0.5)\n",
    "    logits = tf.matmul(h1, W2) + b2\n",
    "\n",
    "    loss = (tf.reduce_mean(\n",
    "            tf.nn.softmax_cross_entropy_with_logits(labels=tf_train_labels, logits=logits)) +\n",
    "            tf_reg*tf.nn.l2_loss(W1) + tf_reg*tf.nn.l2_loss(W2))\n",
    "\n",
    "    # Optimizer.\n",
    "    optimizer = tf.train.GradientDescentOptimizer(learning_rate).minimize(loss, global_step=global_step)\n",
    "    \n",
    "    # Predictions for the training, validation, and test data.\n",
    "    train_prediction = tf.nn.softmax(logits)\n",
    "\n",
    "    z1_valid = tf.matmul(tf_valid_dataset, W1) + b1\n",
    "    h1_valid = tf.nn.relu(z1_valid)\n",
    "    valid_logits = tf.matmul(h1_valid, W2) + b2\n",
    "    valid_prediction = tf.nn.softmax(valid_logits)\n",
    "\n",
    "    z1_test = tf.matmul(tf_test_dataset, W1) + b1\n",
    "    h1_test = tf.nn.relu(z1_test)\n",
    "    test_logits = tf.matmul(h1_test, W2) + b2\n",
    "    test_prediction = tf.nn.softmax(test_logits)"
   ]
  },
  {
   "cell_type": "code",
   "execution_count": 47,
   "metadata": {},
   "outputs": [
    {
     "name": "stdout",
     "output_type": "stream",
     "text": [
      "Regularized valid accuracy: 84.9% when reg paramer equals 0.00010\n",
      "Regularized valid accuracy: 85.0% when reg paramer equals 0.00013\n",
      "Regularized valid accuracy: 85.5% when reg paramer equals 0.00016\n",
      "Regularized valid accuracy: 86.1% when reg paramer equals 0.00021\n",
      "Regularized valid accuracy: 86.8% when reg paramer equals 0.00026\n",
      "Regularized valid accuracy: 87.0% when reg paramer equals 0.00034\n",
      "Regularized valid accuracy: 87.8% when reg paramer equals 0.00043\n",
      "Regularized valid accuracy: 88.2% when reg paramer equals 0.00055\n",
      "Regularized valid accuracy: 88.4% when reg paramer equals 0.00070\n",
      "Regularized valid accuracy: 88.4% when reg paramer equals 0.00089\n",
      "Regularized valid accuracy: 88.3% when reg paramer equals 0.00113\n",
      "Regularized valid accuracy: 88.1% when reg paramer equals 0.00144\n",
      "Regularized valid accuracy: 87.7% when reg paramer equals 0.00183\n",
      "Regularized valid accuracy: 87.1% when reg paramer equals 0.00234\n",
      "Regularized valid accuracy: 86.7% when reg paramer equals 0.00298\n",
      "Regularized valid accuracy: 86.4% when reg paramer equals 0.00379\n",
      "Regularized valid accuracy: 85.8% when reg paramer equals 0.00483\n",
      "Regularized valid accuracy: 85.2% when reg paramer equals 0.00616\n",
      "Regularized valid accuracy: 84.5% when reg paramer equals 0.00785\n",
      "Regularized valid accuracy: 83.8% when reg paramer equals 0.01000\n"
     ]
    }
   ],
   "source": [
    "num_steps = 8001\n",
    "reg_set = np.logspace(-4, -2, 20)\n",
    "valid_acc_track = []\n",
    "\n",
    "with tf.Session(graph=graph) as session:\n",
    "    for reg in reg_set:\n",
    "      tf.global_variables_initializer().run()\n",
    "      #print(\"Initialized\")\n",
    "      for step in range(num_steps):\n",
    "        # Pick an offset within the training data, which has been randomized.\n",
    "        # Note: we could use better randomization across epochs.\n",
    "        offset = (step * batch_size) % (train_labels.shape[0] - batch_size)\n",
    "        # Generate a minibatch.\n",
    "        batch_data = train_dataset[offset:(offset + batch_size), :]\n",
    "        batch_labels = train_labels[offset:(offset + batch_size), :]\n",
    "        # Prepare a dictionary telling the session where to feed the minibatch.\n",
    "        # The key of the dictionary is the placeholder node of the graph to be fed,\n",
    "        # and the value is the numpy array to feed to it.\n",
    "        feed_dict = {tf_train_dataset : batch_data, tf_train_labels : batch_labels, tf_reg : reg}\n",
    "        _, l, predictions = session.run(\n",
    "          [optimizer, loss, train_prediction], feed_dict=feed_dict)\n",
    "\n",
    "      print(\"Regularized valid accuracy: %.1f%% when reg paramer equals %.5f\" %\n",
    "           (accuracy(valid_prediction.eval(), valid_labels), reg))\n",
    "      #print(\"Regularized test accuracy: %.1f%% when reg paramer equals %.5f\" %\n",
    "      #     (accuracy(test_prediction.eval(), test_labels), reg))\n",
    "\n",
    "      valid_acc_track.append(accuracy(valid_prediction.eval(), valid_labels))    "
   ]
  },
  {
   "cell_type": "code",
   "execution_count": 48,
   "metadata": {},
   "outputs": [
    {
     "name": "stdout",
     "output_type": "stream",
     "text": [
      "Best beta=0.00089, accuracy=88.4%\n"
     ]
    },
    {
     "data": {
      "image/png": "[encoded data removed]",
      "text/plain": [
       "<matplotlib.figure.Figure at 0x219898792e8>"
      ]
     },
     "metadata": {},
     "output_type": "display_data"
    }
   ],
   "source": [
    "import matplotlib.pyplot as plt\n",
    "\n",
    "print('Best beta=%.5f, accuracy=%.1f%%' % (reg_set[np.argmax(valid_acc_track)], max(valid_acc_track)))\n",
    "plt.semilogx(reg_set, valid_acc_track)\n",
    "plt.grid(True)\n",
    "plt.title('Validation accuracy by regularization (logistic)')\n",
    "plt.show()"
   ]
  },
  {
   "cell_type": "code",
   "execution_count": 49,
   "metadata": {},
   "outputs": [
    {
     "name": "stdout",
     "output_type": "stream",
     "text": [
      "Regularized test accuracy: 94.5% when reg paramer equals 0.00089\n"
     ]
    }
   ],
   "source": [
    "with tf.Session(graph=graph) as session:\n",
    "  tf.global_variables_initializer().run()\n",
    "  #print(\"Initialized\")\n",
    "  for step in range(num_steps):\n",
    "    # Pick an offset within the training data, which has been randomized.\n",
    "    # Note: we could use better randomization across epochs.\n",
    "    offset = (step * batch_size) % (train_labels.shape[0] - batch_size)\n",
    "    # Generate a minibatch.\n",
    "    batch_data = train_dataset[offset:(offset + batch_size), :]\n",
    "    batch_labels = train_labels[offset:(offset + batch_size), :]\n",
    "    # Prepare a dictionary telling the session where to feed the minibatch.\n",
    "    # The key of the dictionary is the placeholder node of the graph to be fed,\n",
    "    # and the value is the numpy array to feed to it.\n",
    "    feed_dict = {tf_train_dataset : batch_data, tf_train_labels : batch_labels, \n",
    "                 tf_reg : reg_set[np.argmax(valid_acc_track)]}\n",
    "    _, l, predictions = session.run(\n",
    "      [optimizer, loss, train_prediction], feed_dict=feed_dict)\n",
    "        \n",
    "  print(\"Regularized test accuracy: %.1f%% when reg paramer equals %.5f\" %\n",
    "        (accuracy(test_prediction.eval(), test_labels), \n",
    "         reg_set[np.argmax(valid_acc_track)]))"
   ]
  }
 ],
 "metadata": {
  "colab": {
   "default_view": {},
   "name": "3_regularization.ipynb",
   "provenance": [],
   "version": "0.3.2",
   "views": {}
  },
  "kernelspec": {
   "display_name": "Python 3",
   "language": "python",
   "name": "python3"
  },
  "language_info": {
   "codemirror_mode": {
    "name": "ipython",
    "version": 3
   },
   "file_extension": ".py",
   "mimetype": "text/x-python",
   "name": "python",
   "nbconvert_exporter": "python",
   "pygments_lexer": "ipython3",
   "version": "3.5.0"
  }
 },
 "nbformat": 4,
 "nbformat_minor": 1
}
